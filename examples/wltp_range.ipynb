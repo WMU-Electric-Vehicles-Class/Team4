{
 "cells": [
  {
   "cell_type": "code",
   "execution_count": 1,
   "metadata": {},
   "outputs": [],
   "source": [
    "import os\n",
    "os.chdir(f\"{globals()['_dh'][0]}/..\")  # Set cwd up one level\n",
    "\n",
    "from etron import e_tron\n",
    "import pandas as pd"
   ]
  },
  {
   "cell_type": "code",
   "execution_count": 2,
   "metadata": {},
   "outputs": [],
   "source": [
    "cycle = pd.read_csv(\"data/wltp-3.csv\", sep=\"\\t\")"
   ]
  },
  {
   "cell_type": "code",
   "execution_count": 3,
   "metadata": {},
   "outputs": [
    {
     "name": "stdout",
     "output_type": "stream",
     "text": [
      "Simulating...\n",
      "Range: 280.581317 mi\n"
     ]
    }
   ],
   "source": [
    "dist_mi = 0\n",
    "soc = 1.00\n",
    "energy_cons = 0\n",
    "\n",
    "print(\"Simulating...\")\n",
    "while True:\n",
    "    ev = e_tron(initial_soc=soc)\n",
    "    ev.simulate(cycle)\n",
    "    soc = ev.log[\"SOC\"][-1]\n",
    "    dist_mi += ev.log[\"Distance (mi)\"][-1]\n",
    "    energy_cons += (ev.log[\"Battery energy (J)\"][0] - ev.log[\"Battery energy (J)\"][-1]) / ev.KWH_TO_J\n",
    "    if ev.battery.depleted:\n",
    "        break\n",
    "print(f\"Range: {dist_mi:.06f} mi\")"
   ]
  },
  {
   "cell_type": "code",
   "execution_count": 4,
   "metadata": {},
   "outputs": [
    {
     "name": "stdout",
     "output_type": "stream",
     "text": [
      "WLTP Range Absolute Error: 2.39%\n"
     ]
    }
   ],
   "source": [
    "real_range = 274.025\n",
    "print(f\"WLTP Range Absolute Error: {abs(dist_mi - real_range) / real_range * 100:.02f}%\")"
   ]
  },
  {
   "cell_type": "code",
   "execution_count": 5,
   "metadata": {},
   "outputs": [
    {
     "name": "stdout",
     "output_type": "stream",
     "text": [
      "0.3082885233983602\n",
      "WLTP Range Absolute Error: 12.93%\n"
     ]
    }
   ],
   "source": [
    "kwh_per_mi = 86.5/dist_mi\n",
    "r = 0.35405578953\n",
    "print(kwh_per_mi)\n",
    "print(f\"WLTP Range Absolute Error: {abs(kwh_per_mi - r) / r * 100:.02f}%\")"
   ]
  }
 ],
 "metadata": {
  "interpreter": {
   "hash": "0095964e1b921c7f11b8316ea868d0312e8ac240321afdd635e6e5a4911e270a"
  },
  "kernelspec": {
   "display_name": "Python 3.7.13 ('venv': venv)",
   "language": "python",
   "name": "python3"
  },
  "language_info": {
   "codemirror_mode": {
    "name": "ipython",
    "version": 3
   },
   "file_extension": ".py",
   "mimetype": "text/x-python",
   "name": "python",
   "nbconvert_exporter": "python",
   "pygments_lexer": "ipython3",
   "version": "3.7.13"
  },
  "orig_nbformat": 4
 },
 "nbformat": 4,
 "nbformat_minor": 2
}

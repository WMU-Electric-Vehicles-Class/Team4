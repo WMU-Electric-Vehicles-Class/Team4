{
 "cells": [
  {
   "cell_type": "code",
   "execution_count": 1,
   "metadata": {},
   "outputs": [],
   "source": [
    "import os\n",
    "os.chdir(f\"{globals()['_dh'][0]}/..\")  # Set cwd up one level\n",
    "\n",
    "from etron import e_tron\n",
    "import pandas as pd"
   ]
  },
  {
   "cell_type": "code",
   "execution_count": 2,
   "metadata": {},
   "outputs": [],
   "source": [
    "cycle = pd.read_csv(\"data/wltp-3.csv\", sep=\"\\t\")"
   ]
  },
  {
   "cell_type": "code",
   "execution_count": 3,
   "metadata": {},
   "outputs": [
    {
     "name": "stdout",
     "output_type": "stream",
     "text": [
      "No VIPV\n",
      "Simulating...\n",
      "Range: 279.827223 mi\n"
     ]
    }
   ],
   "source": [
    "dist_mi = 0\n",
    "soc = 1.00\n",
    "energy_cons = 0\n",
    "\n",
    "print(\"No VIPV\")\n",
    "print(\"Simulating...\")\n",
    "while True:\n",
    "    ev = e_tron(initial_soc=soc)\n",
    "    ev.chassis.mass = 2595\n",
    "    ev.simulate(cycle)\n",
    "    soc = ev.log[\"SOC\"][-1]\n",
    "    dist_mi += ev.log[\"Distance (mi)\"][-1]\n",
    "    energy_cons += (ev.log[\"Battery energy (J)\"][0] - ev.log[\"Battery energy (J)\"][-1]) / ev.KWH_TO_J\n",
    "    if ev.battery.depleted:\n",
    "        break\n",
    "print(f\"Range: {dist_mi:.06f} mi\")"
   ]
  },
  {
   "cell_type": "code",
   "execution_count": 4,
   "metadata": {},
   "outputs": [
    {
     "name": "stdout",
     "output_type": "stream",
     "text": [
      "Summer Solstice\n",
      "Simulating...\n",
      "Range: 304.259480 mi\n",
      "WLTP Range Improvement: 8.73%\n"
     ]
    }
   ],
   "source": [
    "dist_mi_ss = 0\n",
    "soc = 1.00\n",
    "energy_cons = 0\n",
    "\n",
    "print(\"Summer Solstice\")\n",
    "print(\"Simulating...\")\n",
    "while True:\n",
    "    ev = e_tron(initial_soc=soc)\n",
    "    ev.solar_irradiance = 848\n",
    "    ev.simulate(cycle)\n",
    "    soc = ev.log[\"SOC\"][-1]\n",
    "    dist_mi_ss += ev.log[\"Distance (mi)\"][-1]\n",
    "    energy_cons += (ev.log[\"Battery energy (J)\"][0] - ev.log[\"Battery energy (J)\"][-1]) / ev.KWH_TO_J\n",
    "    if ev.battery.depleted:\n",
    "        break\n",
    "print(f\"Range: {dist_mi_ss:.06f} mi\")\n",
    "print(f\"WLTP Range Improvement: {(dist_mi_ss - dist_mi) / dist_mi * 100:.02f}%\")"
   ]
  },
  {
   "cell_type": "code",
   "execution_count": 5,
   "metadata": {},
   "outputs": [
    {
     "name": "stdout",
     "output_type": "stream",
     "text": [
      "Summer Solstice\n",
      "Simulating...\n",
      "Range: 284.937826 mi\n",
      "WLTP Range Improvement: 1.83%\n"
     ]
    }
   ],
   "source": [
    "dist_mi_ws = 0\n",
    "soc = 1.00\n",
    "energy_cons = 0\n",
    "\n",
    "print(\"Summer Solstice\")\n",
    "print(\"Simulating...\")\n",
    "while True:\n",
    "    ev = e_tron(initial_soc=soc)\n",
    "    ev.solar_irradiance = 226\n",
    "    ev.simulate(cycle)\n",
    "    soc = ev.log[\"SOC\"][-1]\n",
    "    dist_mi_ws += ev.log[\"Distance (mi)\"][-1]\n",
    "    energy_cons += (ev.log[\"Battery energy (J)\"][0] - ev.log[\"Battery energy (J)\"][-1]) / ev.KWH_TO_J\n",
    "    if ev.battery.depleted:\n",
    "        break\n",
    "print(f\"Range: {dist_mi_ws:.06f} mi\")\n",
    "print(f\"WLTP Range Improvement: {(dist_mi_ws - dist_mi) / dist_mi * 100:.02f}%\")"
   ]
  }
 ],
 "metadata": {
  "interpreter": {
   "hash": "0095964e1b921c7f11b8316ea868d0312e8ac240321afdd635e6e5a4911e270a"
  },
  "kernelspec": {
   "display_name": "Python 3.7.13 ('venv': venv)",
   "language": "python",
   "name": "python3"
  },
  "language_info": {
   "codemirror_mode": {
    "name": "ipython",
    "version": 3
   },
   "file_extension": ".py",
   "mimetype": "text/x-python",
   "name": "python",
   "nbconvert_exporter": "python",
   "pygments_lexer": "ipython3",
   "version": "3.7.13"
  },
  "orig_nbformat": 4
 },
 "nbformat": 4,
 "nbformat_minor": 2
}

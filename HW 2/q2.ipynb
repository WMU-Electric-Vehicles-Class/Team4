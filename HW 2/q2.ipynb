{
 "cells": [
  {
   "cell_type": "code",
   "execution_count": 12,
   "metadata": {},
   "outputs": [],
   "source": [
    "import pandas as pd\n",
    "from matplotlib import pyplot as plt\n",
    "import matplotlib\n",
    "import numpy as np"
   ]
  },
  {
   "cell_type": "code",
   "execution_count": 13,
   "metadata": {},
   "outputs": [],
   "source": [
    "#chevy bolt kwh to wh and given power load\n",
    "Load_W=100\n",
    "Capacity_kWh=60\n",
    "Capacity_Wh=Capacity_kWh*1000"
   ]
  },
  {
   "cell_type": "code",
   "execution_count": 14,
   "metadata": {},
   "outputs": [],
   "source": [
    "#Change in the State of charge (SOC)\n",
    "SOC_ini=0.6\n",
    "SOC_fin=0\n",
    "SOC_diff=SOC_ini-SOC_fin"
   ]
  },
  {
   "cell_type": "code",
   "execution_count": 15,
   "metadata": {},
   "outputs": [
    {
     "name": "stdout",
     "output_type": "stream",
     "text": [
      "Time until full depletion = 360.0 hours\n"
     ]
    }
   ],
   "source": [
    "#Time until full depletion can now be calculated as follows\n",
    "T=SOC_diff*Capacity_Wh/Load_W\n",
    "print(f\"Time until full depletion = {T} hours\")"
   ]
  }
 ],
 "metadata": {
  "interpreter": {
   "hash": "1eb94296ab88e3dca906dc9813b2e628bceaac46aa516eeaca3dc3a65e5c3fd0"
  },
  "kernelspec": {
   "display_name": "Python 3.8.5 64-bit ('base': conda)",
   "language": "python",
   "name": "python3"
  },
  "language_info": {
   "codemirror_mode": {
    "name": "ipython",
    "version": 3
   },
   "file_extension": ".py",
   "mimetype": "text/x-python",
   "name": "python",
   "nbconvert_exporter": "python",
   "pygments_lexer": "ipython3",
   "version": "3.8.5"
  },
  "orig_nbformat": 4
 },
 "nbformat": 4,
 "nbformat_minor": 2
}

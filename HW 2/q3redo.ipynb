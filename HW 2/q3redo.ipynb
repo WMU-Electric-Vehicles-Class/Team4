{
 "cells": [
  {
   "cell_type": "code",
   "execution_count": 44,
   "metadata": {},
   "outputs": [],
   "source": [
    "import pandas as pd\n",
    "from matplotlib import pyplot as plt\n",
    "import matplotlib\n",
    "import numpy as np"
   ]
  },
  {
   "cell_type": "code",
   "execution_count": 45,
   "metadata": {},
   "outputs": [],
   "source": [
    "#Given values for speed, max discharge current, SOC and voltage\n",
    "Speed_kmph=100\n",
    "Imax_A=100\n",
    "Vb_V=195\n",
    "SOC_min=0.3\n",
    "SOC_max=1"
   ]
  },
  {
   "cell_type": "code",
   "execution_count": 46,
   "metadata": {},
   "outputs": [],
   "source": [
    "#Assume chevy bolt as EV and covert kwh to wh\n",
    "Capacity_kWh=60\n",
    "Capacity_Wh=Capacity_kWh*1000"
   ]
  },
  {
   "cell_type": "code",
   "execution_count": 47,
   "metadata": {},
   "outputs": [
    {
     "name": "stdout",
     "output_type": "stream",
     "text": [
      "Battery Coulometric Capacity = 307.6923076923077 Ah\n"
     ]
    }
   ],
   "source": [
    "#Battery coulometric capacity\n",
    "Bc_Ah=Capacity_Wh/Vb_V\n",
    "print(f\"Battery Coulometric Capacity = {Bc_Ah} Ah\")"
   ]
  },
  {
   "cell_type": "code",
   "execution_count": 48,
   "metadata": {},
   "outputs": [
    {
     "name": "stdout",
     "output_type": "stream",
     "text": [
      "Time = 2.1538461538461533 hours\n"
     ]
    }
   ],
   "source": [
    "#Time to cover that distance in hours\n",
    "t_hr=(SOC_max-SOC_min)*(Bc_Ah/Imax_A)\n",
    "print(f\"Time = {t_hr} hours\")"
   ]
  },
  {
   "cell_type": "code",
   "execution_count": 49,
   "metadata": {},
   "outputs": [
    {
     "name": "stdout",
     "output_type": "stream",
     "text": [
      "Distance the EV can travel = 133.83999999999995 miles\n"
     ]
    }
   ],
   "source": [
    "#Distance vehicle can travel in miles\n",
    "Dist_km=Speed_kmph*t_hr\n",
    "Dist_miles=Dist_km*0.6214\n",
    "print(f\"Distance the EV can travel = {Dist_miles} miles\")"
   ]
  }
 ],
 "metadata": {
  "interpreter": {
   "hash": "1eb94296ab88e3dca906dc9813b2e628bceaac46aa516eeaca3dc3a65e5c3fd0"
  },
  "kernelspec": {
   "display_name": "Python 3.8.5 64-bit ('base': conda)",
   "language": "python",
   "name": "python3"
  },
  "language_info": {
   "codemirror_mode": {
    "name": "ipython",
    "version": 3
   },
   "file_extension": ".py",
   "mimetype": "text/x-python",
   "name": "python",
   "nbconvert_exporter": "python",
   "pygments_lexer": "ipython3",
   "version": "3.8.5"
  },
  "orig_nbformat": 4
 },
 "nbformat": 4,
 "nbformat_minor": 2
}
